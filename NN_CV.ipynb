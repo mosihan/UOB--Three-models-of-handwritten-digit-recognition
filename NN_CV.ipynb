{
  "nbformat": 4,
  "nbformat_minor": 0,
  "metadata": {
    "colab": {
      "name": "NN-CV.ipynb",
      "provenance": [],
      "collapsed_sections": [],
      "authorship_tag": "ABX9TyPa2k/1uF6SCGtM2HNTt5jG",
      "include_colab_link": true
    },
    "kernelspec": {
      "name": "python3",
      "display_name": "Python 3"
    },
    "language_info": {
      "name": "python"
    }
  },
  "cells": [
    {
      "cell_type": "markdown",
      "metadata": {
        "id": "view-in-github",
        "colab_type": "text"
      },
      "source": [
        "<a href=\"https://colab.research.google.com/github/mosihan/UOB--Three-models-of-handwritten-digit-recognition/blob/main/NN_CV.ipynb\" target=\"_parent\"><img src=\"https://colab.research.google.com/assets/colab-badge.svg\" alt=\"Open In Colab\"/></a>"
      ]
    },
    {
      "cell_type": "code",
      "metadata": {
        "colab": {
          "base_uri": "https://localhost:8080/"
        },
        "id": "dIroqoaXGmaZ",
        "outputId": "0381f541-86e8-4b39-cfa0-e3d5d5aef1bf"
      },
      "source": [
        "%reset\n",
        "%who"
      ],
      "execution_count": null,
      "outputs": [
        {
          "output_type": "stream",
          "name": "stdout",
          "text": [
            "Once deleted, variables cannot be recovered. Proceed (y/[n])? y\n",
            "Interactive namespace is empty.\n"
          ]
        }
      ]
    },
    {
      "cell_type": "code",
      "metadata": {
        "id": "7qG7kqkNb57w"
      },
      "source": [
        "import numpy as np\n",
        "import pandas as pd\n",
        "import matplotlib\n",
        "import matplotlib.pyplot as plt\n",
        "from sklearn.metrics import classification_report\n",
        "\n",
        "# Loading MINIST dataset\n",
        "import tensorflow\n",
        "from keras.datasets import mnist\n",
        "(train_images, train_labels), (test_images, test_labels) = mnist.load_data()"
      ],
      "execution_count": null,
      "outputs": []
    },
    {
      "cell_type": "code",
      "metadata": {
        "id": "3G53uZDdcF1T"
      },
      "source": [
        "# Vectoring: reshape 3d to 2d matrixes \n",
        "X_train=train_images.reshape(60000,-1)\n",
        "X_test=test_images.reshape(10000,-1)\n",
        "y_train=train_labels\n",
        "y_test=test_labels"
      ],
      "execution_count": null,
      "outputs": []
    },
    {
      "cell_type": "code",
      "metadata": {
        "colab": {
          "base_uri": "https://localhost:8080/"
        },
        "id": "oOubjP9oiWsO",
        "outputId": "f0f5a8d4-56df-48eb-dec1-203881b1e70a"
      },
      "source": [
        "import datetime\n",
        "start = datetime.datetime.now()\n",
        "\n",
        "from sklearn.neural_network import MLPClassifier\n",
        "from sklearn.model_selection import GridSearchCV\n",
        "from sklearn.model_selection import StratifiedKFold\n",
        "\n",
        "NN = MLPClassifier()\n",
        "parameters = {\"hidden_layer_sizes\": [(50,),(100, ),(200, ),(300, )],\n",
        "              \"learning_rate_init\": [0.0005,0.001,0.01,0.1]}\n",
        "\n",
        "print(\"grid search\")\n",
        "grid = GridSearchCV(NN, parameters, cv=3, verbose=3,scoring='accuracy',n_jobs=-1)\n",
        "grid.fit(X_train, y_train)\n",
        "print(\"predicting\")\n",
        "print(\"score: \", grid.score(X_test, y_test)) \n",
        "print(grid.best_estimator_) \n",
        "\n",
        "end = datetime.datetime.now()\n",
        "print (end-start)"
      ],
      "execution_count": null,
      "outputs": [
        {
          "output_type": "stream",
          "name": "stdout",
          "text": [
            "grid search\n",
            "Fitting 3 folds for each of 16 candidates, totalling 48 fits\n"
          ]
        },
        {
          "output_type": "stream",
          "name": "stderr",
          "text": [
            "[Parallel(n_jobs=-1)]: Using backend LokyBackend with 2 concurrent workers.\n",
            "[Parallel(n_jobs=-1)]: Done  28 tasks      | elapsed: 21.9min\n",
            "[Parallel(n_jobs=-1)]: Done  48 out of  48 | elapsed: 44.5min finished\n"
          ]
        },
        {
          "output_type": "stream",
          "name": "stdout",
          "text": [
            "predicting\n",
            "score:  0.9782\n",
            "MLPClassifier(activation='relu', alpha=0.0001, batch_size='auto', beta_1=0.9,\n",
            "              beta_2=0.999, early_stopping=False, epsilon=1e-08,\n",
            "              hidden_layer_sizes=(300,), learning_rate='constant',\n",
            "              learning_rate_init=0.0005, max_fun=15000, max_iter=200,\n",
            "              momentum=0.9, n_iter_no_change=10, nesterovs_momentum=True,\n",
            "              power_t=0.5, random_state=None, shuffle=True, solver='adam',\n",
            "              tol=0.0001, validation_fraction=0.1, verbose=False,\n",
            "              warm_start=False)\n",
            "0:53:01.788017\n"
          ]
        }
      ]
    },
    {
      "cell_type": "code",
      "metadata": {
        "colab": {
          "base_uri": "https://localhost:8080/"
        },
        "id": "W1FVbggzjbP4",
        "outputId": "f86796f4-9288-44f4-85eb-44acd2ce8fc1"
      },
      "source": [
        "print(grid.cv_results_['mean_test_score'])"
      ],
      "execution_count": null,
      "outputs": [
        {
          "output_type": "stream",
          "name": "stdout",
          "text": [
            "[0.9477     0.94421667 0.52778333 0.10783333 0.96055    0.95883333\n",
            " 0.78093333 0.10876667 0.9683     0.96753333 0.86286667 0.10725\n",
            " 0.96993333 0.9646     0.81641667 0.10618333]\n"
          ]
        }
      ]
    },
    {
      "cell_type": "code",
      "metadata": {
        "colab": {
          "base_uri": "https://localhost:8080/"
        },
        "id": "Do0llqxsjd_z",
        "outputId": "c39373c9-e047-4460-d216-ab669b948f3d"
      },
      "source": [
        "from sklearn import metrics\n",
        "best_model=grid.best_estimator_\n",
        "y_test_pred=best_model.predict(X_test)\n",
        "print(metrics.classification_report(y_test, y_test_pred))"
      ],
      "execution_count": null,
      "outputs": [
        {
          "output_type": "stream",
          "name": "stdout",
          "text": [
            "              precision    recall  f1-score   support\n",
            "\n",
            "           0       0.98      0.99      0.99       980\n",
            "           1       0.99      0.99      0.99      1135\n",
            "           2       0.98      0.98      0.98      1032\n",
            "           3       0.96      0.98      0.97      1010\n",
            "           4       0.99      0.96      0.98       982\n",
            "           5       0.97      0.97      0.97       892\n",
            "           6       0.99      0.97      0.98       958\n",
            "           7       0.98      0.97      0.97      1028\n",
            "           8       0.97      0.97      0.97       974\n",
            "           9       0.96      0.97      0.97      1009\n",
            "\n",
            "    accuracy                           0.98     10000\n",
            "   macro avg       0.98      0.98      0.98     10000\n",
            "weighted avg       0.98      0.98      0.98     10000\n",
            "\n"
          ]
        }
      ]
    },
    {
      "cell_type": "code",
      "metadata": {
        "colab": {
          "base_uri": "https://localhost:8080/"
        },
        "id": "2RgZY_lxjhff",
        "outputId": "47798773-8363-49c6-e3a7-15ae09231907"
      },
      "source": [
        "print('Training accuracy = {0}%'.format(np.round(best_model.score(X_train, y_train) * 100, 2)))\n",
        "print('Test accuracy = {0}%'.format(np.round(best_model.score(X_test, y_test) * 100, 2)))"
      ],
      "execution_count": null,
      "outputs": [
        {
          "output_type": "stream",
          "name": "stdout",
          "text": [
            "Training accuracy = 99.79%\n",
            "Test accuracy = 97.56%\n"
          ]
        }
      ]
    },
    {
      "cell_type": "code",
      "metadata": {
        "colab": {
          "base_uri": "https://localhost:8080/",
          "height": 1000
        },
        "id": "LGDhWANMjole",
        "outputId": "6c3c274a-aab3-4d35-9a7e-259e9637dedf"
      },
      "source": [
        "# show error classiclassification \n",
        "import matplotlib\n",
        "\n",
        "def plot_an_image(image):\n",
        "    fig, ax = plt.subplots(figsize=(1, 1))\n",
        "    ax.matshow(image.reshape((28, 28)), cmap=matplotlib.cm.binary)\n",
        "    plt.xticks(np.array([]))  # just get rid of ticks\n",
        "    plt.yticks(np.array([]))\n",
        "\n",
        "n=0\n",
        "for index in np.arange(0,y_test_pred.shape[0]):\n",
        "  if y_test_pred[index]!=y_test[index]:\n",
        "    pick_one=index\n",
        "    plot_an_image(X_test[pick_one, :])\n",
        "    plt.show()\n",
        "    print('this should be {}'.format(y_test[pick_one]))\n",
        "    print('NN model think this is {}'.format(y_test_pred[pick_one]))\n",
        "    n=n+1\n",
        "    if n > 10:\n",
        "      break\n"
      ],
      "execution_count": null,
      "outputs": [
        {
          "output_type": "display_data",
          "data": {
            "image/png": "[encoded data removed]",
            "text/plain": [
              "<Figure size 72x72 with 1 Axes>"
            ]
          },
          "metadata": {}
        },
        {
          "output_type": "stream",
          "name": "stdout",
          "text": [
            "this should be 4\n",
            "NN model think this is 9\n"
          ]
        },
        {
          "output_type": "display_data",
          "data": {
            "image/png": "[encoded data removed]",
            "text/plain": [
              "<Figure size 72x72 with 1 Axes>"
            ]
          },
          "metadata": {}
        },
        {
          "output_type": "stream",
          "name": "stdout",
          "text": [
            "this should be 9\n",
            "NN model think this is 8\n"
          ]
        },
        {
          "output_type": "display_data",
          "data": {
            "image/png": "[encoded data removed]",
            "text/plain": [
              "<Figure size 72x72 with 1 Axes>"
            ]
          },
          "metadata": {}
        },
        {
          "output_type": "stream",
          "name": "stdout",
          "text": [
            "this should be 6\n",
            "NN model think this is 5\n"
          ]
        },
        {
          "output_type": "display_data",
          "data": {
            "image/png": "[encoded data removed]",
            "text/plain": [
              "<Figure size 72x72 with 1 Axes>"
            ]
          },
          "metadata": {}
        },
        {
          "output_type": "stream",
          "name": "stdout",
          "text": [
            "this should be 4\n",
            "NN model think this is 2\n"
          ]
        },
        {
          "output_type": "display_data",
          "data": {
            "image/png": "[encoded data removed]",
            "text/plain": [
              "<Figure size 72x72 with 1 Axes>"
            ]
          },
          "metadata": {}
        },
        {
          "output_type": "stream",
          "name": "stdout",
          "text": [
            "this should be 6\n",
            "NN model think this is 0\n"
          ]
        },
        {
          "output_type": "display_data",
          "data": {
            "image/png": "[encoded data removed]",
            "text/plain": [
              "<Figure size 72x72 with 1 Axes>"
            ]
          },
          "metadata": {}
        },
        {
          "output_type": "stream",
          "name": "stdout",
          "text": [
            "this should be 2\n",
            "NN model think this is 7\n"
          ]
        },
        {
          "output_type": "display_data",
          "data": {
            "image/png": "[encoded data removed]",
            "text/plain": [
              "<Figure size 72x72 with 1 Axes>"
            ]
          },
          "metadata": {}
        },
        {
          "output_type": "stream",
          "name": "stdout",
          "text": [
            "this should be 5\n",
            "NN model think this is 3\n"
          ]
        },
        {
          "output_type": "display_data",
          "data": {
            "image/png": "[encoded data removed]",
            "text/plain": [
              "<Figure size 72x72 with 1 Axes>"
            ]
          },
          "metadata": {}
        },
        {
          "output_type": "stream",
          "name": "stdout",
          "text": [
            "this should be 3\n",
            "NN model think this is 7\n"
          ]
        },
        {
          "output_type": "display_data",
          "data": {
            "image/png": "[encoded data removed]",
            "text/plain": [
              "<Figure size 72x72 with 1 Axes>"
            ]
          },
          "metadata": {}
        },
        {
          "output_type": "stream",
          "name": "stdout",
          "text": [
            "this should be 6\n",
            "NN model think this is 0\n"
          ]
        },
        {
          "output_type": "display_data",
          "data": {
            "image/png": "[encoded data removed]",
            "text/plain": [
              "<Figure size 72x72 with 1 Axes>"
            ]
          },
          "metadata": {}
        },
        {
          "output_type": "stream",
          "name": "stdout",
          "text": [
            "this should be 4\n",
            "NN model think this is 9\n"
          ]
        },
        {
          "output_type": "display_data",
          "data": {
            "image/png": "[encoded data removed]",
            "text/plain": [
              "<Figure size 72x72 with 1 Axes>"
            ]
          },
          "metadata": {}
        },
        {
          "output_type": "stream",
          "name": "stdout",
          "text": [
            "this should be 9\n",
            "NN model think this is 3\n"
          ]
        }
      ]
    },
    {
      "cell_type": "markdown",
      "metadata": {
        "id": "bEh8-vlLGXYt"
      },
      "source": [
        "# other try"
      ]
    },
    {
      "cell_type": "code",
      "metadata": {
        "id": "t9yo699FjuAI"
      },
      "source": [
        "'''\n",
        "from matplotlib import pyplot\n",
        "import matplotlib.pyplot as plt\n",
        "from matplotlib.ticker import FuncFormatter\n",
        "pyplot.figure(figsize=(6, 4.5))\n",
        "plt.style.use( 'seaborn-whitegrid') \n",
        "palette = pyplot.get_cmap('Set1')\n",
        "#plt.rcParams['font.family'] = ['Times New Roman']\n",
        "plt.rcParams.update({'font.size': 12}) \n",
        " \n",
        "x = [10, 20, 50, 100]\n",
        "y_Supervised = [0.706, 0.779, 0.842, 0.885]\n",
        "y_Self = [0.768, 0.846, 0.884, 0.9]\n",
        "y_Semi = [0.762, 0.848, 0.875, 0.903]\n",
        "y_ours = [0.791, 0.869, 0.895, 0.913]\n",
        "\n",
        "plt.xlim(10, 100) \n",
        "plt.ylim(0.7, 0.92)  \n",
        " \n",
        " \n",
        "#plt.plot(x, y_Supervised, marker='o', mec='r',label='Supervised')\n",
        "plt.plot(x, y_Supervised, color=palette(3), marker='*', label='Supervised')\n",
        "plt.plot(x, y_Self, color=palette(1), marker='^', label='Self-supervised')\n",
        "plt.plot(x, y_Semi, color=palette(2), marker='s', label='Semi-supervised')\n",
        "plt.plot(x, y_ours, color=palette(0), marker='o', label='Ours')\n",
        "\n",
        "plt.legend()  # 让图例生效\n",
        "#plt.xticks(x, names, rotation=1)\n",
        " \n",
        "plt.margins(0)\n",
        "plt.subplots_adjust(bottom=0.10)\n",
        "plt.xlabel('Labeled Data Percentage') #X轴标签\n",
        "plt.ylabel(\"AUC\") #Y轴标签\n",
        "pyplot.yticks([0.70, 0.75,0.80,0.85,0.90,0.92])\n",
        "pyplot.xticks([10, 20, 50, 100])\n",
        "#plt.title(\"A simple plot\") #标题\n",
        "plt.savefig('Fig.png',dpi = 300)"
      ],
      "execution_count": null,
      "outputs": []
    },
    {
      "cell_type": "code",
      "metadata": {
        "id": "rW1_wh1zi7Go"
      },
      "source": [
        "'''\n",
        "NN = MLPClassifier(solver='sgd',activation = 'logistic',hidden_layer_sizes = (100,),alpha = 1e-5,learning_rate='constant',learning_rate_init=0.1,random_state = 1,verbose = True)\n",
        "# alpha:默认0.0001,正则化项参数"
      ],
      "execution_count": null,
      "outputs": []
    },
    {
      "cell_type": "code",
      "metadata": {
        "colab": {
          "base_uri": "https://localhost:8080/"
        },
        "id": "_lhx7PYSl8bt",
        "outputId": "071cf08d-5288-45a3-e89a-768d8cdede7b"
      },
      "source": [
        "'''\n",
        "from sklearn.preprocessing import StandardScaler\n",
        "from sklearn.neural_network import MLPClassifier\n",
        "\n",
        "clf = MLPClassifier(solver='adam',activation = 'relu',hidden_layer_sizes = (100,),alpha = 1e-5,random_state = 1,verbose = True)\n",
        "clf.fit(X_train, y_train)\n",
        "from sklearn import metrics\n",
        "y_test_pred = clf.predict(X_test)\n",
        "print(metrics.classification_report(y_test, y_test_pred))\n",
        "\n",
        "[coef.shape for coef in clf.coefs_]"
      ],
      "execution_count": null,
      "outputs": [
        {
          "output_type": "stream",
          "name": "stdout",
          "text": [
            "Iteration 1, loss = 25.09616521\n",
            "Iteration 2, loss = 5.26695258\n",
            "Iteration 3, loss = 2.92599398\n",
            "Iteration 4, loss = 1.82867930\n",
            "Iteration 5, loss = 1.20168357\n",
            "Iteration 6, loss = 0.81328030\n",
            "Iteration 7, loss = 0.55280177\n",
            "Iteration 8, loss = 0.39484127\n",
            "Iteration 9, loss = 0.31605565\n",
            "Iteration 10, loss = 0.15249981\n",
            "Iteration 11, loss = 0.13739215\n",
            "Iteration 12, loss = 0.11931387\n",
            "Iteration 13, loss = 0.06380503\n",
            "Iteration 14, loss = 0.06739889\n",
            "Iteration 15, loss = 0.08066144\n",
            "Iteration 16, loss = 0.07242618\n",
            "Iteration 17, loss = 0.06669378\n",
            "Iteration 18, loss = 0.05139386\n",
            "Iteration 19, loss = 0.03058959\n",
            "Iteration 20, loss = 0.03090916\n",
            "Iteration 21, loss = 0.03628057\n",
            "Iteration 22, loss = 0.08828450\n",
            "Iteration 23, loss = 0.06671906\n",
            "Iteration 24, loss = 0.07312869\n",
            "Iteration 25, loss = 0.08741903\n",
            "Iteration 26, loss = 0.08883826\n",
            "Iteration 27, loss = 0.04668931\n",
            "Iteration 28, loss = 0.02824310\n",
            "Iteration 29, loss = 0.03764690\n",
            "Iteration 30, loss = 0.04350346\n",
            "Iteration 31, loss = 0.05658021\n",
            "Iteration 32, loss = 0.01768647\n",
            "Iteration 33, loss = 0.03650913\n",
            "Iteration 34, loss = 0.06068374\n",
            "Iteration 35, loss = 0.10896604\n",
            "Iteration 36, loss = 0.07001972\n",
            "Iteration 37, loss = 0.05320639\n",
            "Iteration 38, loss = 0.04812617\n",
            "Iteration 39, loss = 0.03296484\n",
            "Iteration 40, loss = 0.02341667\n",
            "Iteration 41, loss = 0.02722688\n",
            "Iteration 42, loss = 0.02813365\n",
            "Iteration 43, loss = 0.02820592\n",
            "Training loss did not improve more than tol=0.000100 for 10 consecutive epochs. Stopping.\n",
            "              precision    recall  f1-score   support\n",
            "\n",
            "           0       0.91      0.91      0.91        85\n",
            "           1       0.97      0.98      0.98       126\n",
            "           2       0.89      0.91      0.90       116\n",
            "           3       0.87      0.90      0.88       107\n",
            "           4       0.90      0.93      0.91       110\n",
            "           5       0.85      0.90      0.87        87\n",
            "           6       0.91      0.90      0.90        87\n",
            "           7       0.92      0.88      0.90        99\n",
            "           8       0.92      0.79      0.85        89\n",
            "           9       0.85      0.87      0.86        94\n",
            "\n",
            "    accuracy                           0.90      1000\n",
            "   macro avg       0.90      0.90      0.90      1000\n",
            "weighted avg       0.90      0.90      0.90      1000\n",
            "\n"
          ]
        },
        {
          "output_type": "execute_result",
          "data": {
            "text/plain": [
              "[(784, 100), (100, 10)]"
            ]
          },
          "metadata": {},
          "execution_count": 45
        }
      ]
    },
    {
      "cell_type": "code",
      "metadata": {
        "colab": {
          "base_uri": "https://localhost:8080/"
        },
        "id": "KLHk-efXd1nG",
        "outputId": "c3225fda-8bd1-4a97-fc42-708eb0f673ae"
      },
      "source": [
        "'''\n",
        "from sklearn.preprocessing import StandardScaler\n",
        "from sklearn.neural_network import MLPClassifier\n",
        "#ss = StandardScaler()\n",
        "#X_train = ss.fit_transform(X_train)\n",
        "clf = MLPClassifier(solver='sgd', alpha=1e-5, hidden_layer_sizes=(100,), random_state=1,batch_size=200,max_iter=500)\n",
        "clf.fit(X_train, y_train)\n",
        "from sklearn import metrics\n",
        "y_test_pred = clf.predict(X_test)\n",
        "print(metrics.classification_report(y_test, y_test_pred))\n",
        "\n",
        "[coef.shape for coef in clf.coefs_]"
      ],
      "execution_count": null,
      "outputs": [
        {
          "output_type": "stream",
          "name": "stdout",
          "text": [
            "              precision    recall  f1-score   support\n",
            "\n",
            "           0       0.90      0.93      0.91        85\n",
            "           1       1.00      0.78      0.88       126\n",
            "           2       0.86      0.81      0.84       116\n",
            "           3       0.64      0.96      0.77       107\n",
            "           4       0.97      0.65      0.78       110\n",
            "           5       0.93      0.44      0.59        87\n",
            "           6       0.94      0.75      0.83        87\n",
            "           7       1.00      0.54      0.70        99\n",
            "           8       0.38      0.94      0.54        89\n",
            "           9       0.78      0.70      0.74        94\n",
            "\n",
            "    accuracy                           0.75      1000\n",
            "   macro avg       0.84      0.75      0.76      1000\n",
            "weighted avg       0.85      0.75      0.76      1000\n",
            "\n"
          ]
        }
      ]
    },
    {
      "cell_type": "code",
      "metadata": {
        "id": "Fs1zvER3cWj6"
      },
      "source": [
        "# plot function\n",
        "def plot_an_image(image):\n",
        "    fig, ax = plt.subplots(figsize=(1, 1))\n",
        "    ax.matshow(image.reshape((28, 28)), cmap=matplotlib.cm.binary)\n",
        "    plt.xticks(np.array([]))  # just get rid of ticks\n",
        "    plt.yticks(np.array([]))\n",
        "\n",
        "pick_one = np.random.randint(0, 6000)\n",
        "plot_an_image(X_train[pick_one, :])\n",
        "plt.show()\n",
        "print('this should be {}'.format(y_train[pick_one]))   "
      ],
      "execution_count": null,
      "outputs": []
    },
    {
      "cell_type": "code",
      "metadata": {
        "id": "Z0TZPAcYcTgx"
      },
      "source": [
        "sample_idx = np.random.choice(np.arange(X_train.shape[0]), 100)\n",
        "sample_images = X_train[sample_idx, :]\n",
        "sample_images\n",
        "\n",
        "fig, ax_array = plt.subplots(nrows=10, ncols=10, sharey=True, sharex=True, figsize=(12, 12))\n",
        "for r in range(10):\n",
        "    for c in range(10):\n",
        "        ax_array[r, c].matshow(np.array(sample_images[10 * r + c].reshape((28, 28))),cmap=matplotlib.cm.binary)\n",
        "        plt.xticks(np.array([]))\n",
        "        plt.yticks(np.array([])) "
      ],
      "execution_count": null,
      "outputs": []
    }
  ]
}