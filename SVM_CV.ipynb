{
  "nbformat": 4,
  "nbformat_minor": 0,
  "metadata": {
    "colab": {
      "name": "SVM-CV.ipynb（副本）",
      "provenance": [],
      "collapsed_sections": [],
      "mount_file_id": "1Valq-VJztMqtSWHkYHOwkleoYIaCvIte",
      "authorship_tag": "ABX9TyMw9VUU9GaKvHvwcbOnV1ZX",
      "include_colab_link": true
    },
    "kernelspec": {
      "display_name": "Python 3",
      "name": "python3"
    },
    "language_info": {
      "name": "python"
    }
  },
  "cells": [
    {
      "cell_type": "markdown",
      "metadata": {
        "id": "view-in-github",
        "colab_type": "text"
      },
      "source": [
        "<a href=\"https://colab.research.google.com/github/mosihan/UOB--Three-models-of-handwritten-digit-recognition/blob/main/SVM_CV_ipynb.ipynb\" target=\"_parent\"><img src=\"https://colab.research.google.com/assets/colab-badge.svg\" alt=\"Open In Colab\"/></a>"
      ]
    },
    {
      "cell_type": "code",
      "metadata": {
        "colab": {
          "base_uri": "https://localhost:8080/"
        },
        "id": "AatOuw-EKEfB",
        "outputId": "35e392f3-3596-4234-d0c9-eb89fa97b459"
      },
      "source": [
        "%reset\n",
        "%who"
      ],
      "execution_count": null,
      "outputs": [
        {
          "name": "stdout",
          "output_type": "stream",
          "text": [
            "Once deleted, variables cannot be recovered. Proceed (y/[n])? y\n",
            "Interactive namespace is empty.\n"
          ]
        }
      ]
    },
    {
      "cell_type": "code",
      "metadata": {
        "colab": {
          "base_uri": "https://localhost:8080/"
        },
        "id": "1FMeuhDxZD8m",
        "outputId": "418ffbb7-1eb6-47aa-8693-c97c522acb72"
      },
      "source": [
        "import numpy as np\n",
        "import pandas as pd\n",
        "\n",
        "# Loading MINIST dataset\n",
        "import tensorflow\n",
        "from keras.datasets import mnist\n",
        "(train_images, train_labels), (test_images, test_labels) = mnist.load_data()"
      ],
      "execution_count": null,
      "outputs": [
        {
          "name": "stdout",
          "output_type": "stream",
          "text": [
            "Downloading data from https://storage.googleapis.com/tensorflow/tf-keras-datasets/mnist.npz\n",
            "11493376/11490434 [==============================] - 0s 0us/step\n",
            "11501568/11490434 [==============================] - 0s 0us/step\n"
          ]
        }
      ]
    },
    {
      "cell_type": "code",
      "metadata": {
        "id": "rQ_fenwC7kyA"
      },
      "source": [
        "# Vectoring: reshape 3d to 2d matrixes \n",
        "X_train=train_images.reshape(60000,-1)\n",
        "X_test=test_images.reshape(10000,-1)\n",
        "y_train=train_labels\n",
        "y_test=test_labels"
      ],
      "execution_count": null,
      "outputs": []
    },
    {
      "cell_type": "code",
      "metadata": {
        "colab": {
          "background_save": true,
          "base_uri": "https://localhost:8080/"
        },
        "id": "hqZ9ggEuuJvM",
        "outputId": "7b41a778-3acb-40d0-885e-2a475b3fb1a5"
      },
      "source": [
        "import datetime\n",
        "start = datetime.datetime.now()\n",
        "\n",
        "from sklearn import svm\n",
        "from sklearn.model_selection import GridSearchCV\n",
        "from sklearn.model_selection import StratifiedKFold\n",
        "\n",
        "svm = svm.SVC()\n",
        "parameters = {'C':np.arange (0,10,0.5)}\n",
        "#parameters = {'C':10. ** np.arange(-5,2), 'gamma':['scale','auto']}\n",
        "\n",
        "print(\"grid search\")\n",
        "grid = GridSearchCV(svm, parameters, cv=3, verbose=3,scoring='accuracy',n_jobs=-1)\n",
        "grid.fit(X_train, y_train)\n",
        "print(\"predicting\")\n",
        "print(\"score: \", grid.score(X_test, y_test)) \n",
        "print(grid.best_estimator_) \n",
        "\n",
        "end = datetime.datetime.now()\n",
        "print (end-start)"
      ],
      "execution_count": null,
      "outputs": [
        {
          "name": "stdout",
          "output_type": "stream",
          "text": [
            "grid search\n",
            "Fitting 3 folds for each of 20 candidates, totalling 60 fits\n"
          ]
        },
        {
          "name": "stderr",
          "output_type": "stream",
          "text": [
            "[Parallel(n_jobs=-1)]: Using backend LokyBackend with 2 concurrent workers.\n",
            "[Parallel(n_jobs=-1)]: Done  28 tasks      | elapsed: 89.3min\n"
          ]
        }
      ]
    },
    {
      "cell_type": "code",
      "metadata": {
        "colab": {
          "base_uri": "https://localhost:8080/",
          "height": 341
        },
        "id": "C4hPYnnPHXfe",
        "outputId": "86321996-3a72-4f0d-bf1a-f66b58c10098"
      },
      "source": [
        "%matplotlib inline\n",
        "import matplotlib.pyplot as plt\n",
        "plt.style.use('seaborn-whitegrid')\n",
        "import numpy as np\n",
        "\n",
        "yy=np.around(grid.cv_results_['mean_test_score'], decimals=4)\n",
        "\n",
        "plt.plot(np.arange (0,2,0.5),yy,marker='o',linestyle='dashed')\n",
        "\n",
        "for a, b in zip(np.arange (0,2,0.5),yy):\n",
        "  plt.text(a, b, b, ha='center', va='bottom', fontsize=10)\n",
        "  \n",
        "plt.xlabel('C')\n",
        "plt.ylabel('y')\n",
        "plt.title('title')\n",
        "\n",
        "#axis[xmin, xmax, ymin, ymax]，\n",
        "plt.axis([0.1, 2, 0.97, 0.98])"
      ],
      "execution_count": null,
      "outputs": [
        {
          "data": {
            "text/plain": [
              "(0.1, 2.0, 0.97, 0.98)"
            ]
          },
          "execution_count": 22,
          "metadata": {},
          "output_type": "execute_result"
        },
        {
          "name": "stderr",
          "output_type": "stream",
          "text": [
            "posx and posy should be finite values\n",
            "posx and posy should be finite values\n",
            "posx and posy should be finite values\n"
          ]
        },
        {
          "data": {
            "image/png": "[encoded data removed]",
            "text/plain": [
              "<Figure size 432x288 with 1 Axes>"
            ]
          },
          "metadata": {},
          "output_type": "display_data"
        }
      ]
    },
    {
      "cell_type": "code",
      "metadata": {
        "colab": {
          "base_uri": "https://localhost:8080/"
        },
        "id": "Q7k-anBtsuEw",
        "outputId": "b84e21f8-fe17-4252-b670-17fc0f8f6559"
      },
      "source": [
        "from sklearn import metrics\n",
        "best_model=grid.best_estimator_\n",
        "y_test_pred=best_model.predict(X_test)\n",
        "print(metrics.classification_report(y_test, y_test_pred))"
      ],
      "execution_count": null,
      "outputs": [
        {
          "name": "stdout",
          "output_type": "stream",
          "text": [
            "              precision    recall  f1-score   support\n",
            "\n",
            "           0       0.98      0.99      0.99       980\n",
            "           1       0.99      0.99      0.99      1135\n",
            "           2       0.98      0.98      0.98      1032\n",
            "           3       0.98      0.99      0.98      1010\n",
            "           4       0.98      0.98      0.98       982\n",
            "           5       0.99      0.98      0.98       892\n",
            "           6       0.99      0.99      0.99       958\n",
            "           7       0.98      0.97      0.98      1028\n",
            "           8       0.98      0.98      0.98       974\n",
            "           9       0.98      0.97      0.97      1009\n",
            "\n",
            "    accuracy                           0.98     10000\n",
            "   macro avg       0.98      0.98      0.98     10000\n",
            "weighted avg       0.98      0.98      0.98     10000\n",
            "\n"
          ]
        }
      ]
    },
    {
      "cell_type": "code",
      "metadata": {
        "colab": {
          "base_uri": "https://localhost:8080/"
        },
        "id": "HXZlEAPK2Qjm",
        "outputId": "ff2fd333-6f7a-406b-dcc9-97d4bc901600"
      },
      "source": [
        "print('Training accuracy = {0}%'.format(np.round(best_model.score(X_train, y_train) * 100, 2)))\n",
        "print('Test accuracy = {0}%'.format(np.round(best_model.score(X_test, y_test) * 100, 2)))"
      ],
      "execution_count": null,
      "outputs": [
        {
          "name": "stdout",
          "output_type": "stream",
          "text": [
            "Training accuracy = 99.36%\n",
            "Test accuracy = 98.21%\n"
          ]
        }
      ]
    },
    {
      "cell_type": "code",
      "metadata": {
        "colab": {
          "base_uri": "https://localhost:8080/",
          "height": 1000
        },
        "id": "AlRcJnPIQa_D",
        "outputId": "2ed56173-2750-4ef1-8cd5-381e44991fd6"
      },
      "source": [
        "# show error classiclassification \n",
        "import matplotlib\n",
        "\n",
        "def plot_an_image(image):\n",
        "    fig, ax = plt.subplots(figsize=(1, 1))\n",
        "    ax.matshow(image.reshape((28, 28)), cmap=matplotlib.cm.binary)\n",
        "    plt.xticks(np.array([]))  # just get rid of ticks\n",
        "    plt.yticks(np.array([]))\n",
        "\n",
        "n=0\n",
        "for index in np.arange(0,y_test_pred.shape[0]):\n",
        "  if y_test_pred[index]!=y_test[index]:\n",
        "    pick_one=index\n",
        "    plot_an_image(X_test[pick_one, :])\n",
        "    plt.show()\n",
        "    print('this should be {}'.format(y_test[pick_one]))\n",
        "    print('SVM model think this is {}'.format(y_test_pred[pick_one]))\n",
        "    n=n+1\n",
        "    if n > 10:\n",
        "      break\n"
      ],
      "execution_count": null,
      "outputs": [
        {
          "data": {
            "image/png": "[encoded data removed]",
            "text/plain": [
              "<Figure size 72x72 with 1 Axes>"
            ]
          },
          "metadata": {},
          "output_type": "display_data"
        },
        {
          "name": "stdout",
          "output_type": "stream",
          "text": [
            "this should be 7\n",
            "SVM model think this is 4\n"
          ]
        },
        {
          "data": {
            "image/png": "[encoded data removed]",
            "text/plain": [
              "<Figure size 72x72 with 1 Axes>"
            ]
          },
          "metadata": {},
          "output_type": "display_data"
        },
        {
          "name": "stdout",
          "output_type": "stream",
          "text": [
            "this should be 2\n",
            "SVM model think this is 9\n"
          ]
        },
        {
          "data": {
            "image/png": "[encoded data removed]",
            "text/plain": [
              "<Figure size 72x72 with 1 Axes>"
            ]
          },
          "metadata": {},
          "output_type": "display_data"
        },
        {
          "name": "stdout",
          "output_type": "stream",
          "text": [
            "this should be 9\n",
            "SVM model think this is 8\n"
          ]
        },
        {
          "data": {
            "image/png": "[encoded data removed]",
            "text/plain": [
              "<Figure size 72x72 with 1 Axes>"
            ]
          },
          "metadata": {},
          "output_type": "display_data"
        },
        {
          "name": "stdout",
          "output_type": "stream",
          "text": [
            "this should be 4\n",
            "SVM model think this is 2\n"
          ]
        },
        {
          "data": {
            "image/png": "[encoded data removed]",
            "text/plain": [
              "<Figure size 72x72 with 1 Axes>"
            ]
          },
          "metadata": {},
          "output_type": "display_data"
        },
        {
          "name": "stdout",
          "output_type": "stream",
          "text": [
            "this should be 2\n",
            "SVM model think this is 7\n"
          ]
        },
        {
          "data": {
            "image/png": "[encoded data removed]",
            "text/plain": [
              "<Figure size 72x72 with 1 Axes>"
            ]
          },
          "metadata": {},
          "output_type": "display_data"
        },
        {
          "name": "stdout",
          "output_type": "stream",
          "text": [
            "this should be 5\n",
            "SVM model think this is 3\n"
          ]
        },
        {
          "data": {
            "image/png": "[encoded data removed]",
            "text/plain": [
              "<Figure size 72x72 with 1 Axes>"
            ]
          },
          "metadata": {},
          "output_type": "display_data"
        },
        {
          "name": "stdout",
          "output_type": "stream",
          "text": [
            "this should be 3\n",
            "SVM model think this is 7\n"
          ]
        },
        {
          "data": {
            "image/png": "[encoded data removed]",
            "text/plain": [
              "<Figure size 72x72 with 1 Axes>"
            ]
          },
          "metadata": {},
          "output_type": "display_data"
        },
        {
          "name": "stdout",
          "output_type": "stream",
          "text": [
            "this should be 6\n",
            "SVM model think this is 0\n"
          ]
        },
        {
          "data": {
            "image/png": "[encoded data removed]",
            "text/plain": [
              "<Figure size 72x72 with 1 Axes>"
            ]
          },
          "metadata": {},
          "output_type": "display_data"
        },
        {
          "name": "stdout",
          "output_type": "stream",
          "text": [
            "this should be 9\n",
            "SVM model think this is 8\n"
          ]
        },
        {
          "data": {
            "image/png": "[encoded data removed]",
            "text/plain": [
              "<Figure size 72x72 with 1 Axes>"
            ]
          },
          "metadata": {},
          "output_type": "display_data"
        },
        {
          "name": "stdout",
          "output_type": "stream",
          "text": [
            "this should be 8\n",
            "SVM model think this is 2\n"
          ]
        },
        {
          "data": {
            "image/png": "[encoded data removed]",
            "text/plain": [
              "<Figure size 72x72 with 1 Axes>"
            ]
          },
          "metadata": {},
          "output_type": "display_data"
        },
        {
          "name": "stdout",
          "output_type": "stream",
          "text": [
            "this should be 8\n",
            "SVM model think this is 3\n"
          ]
        }
      ]
    },
    {
      "cell_type": "code",
      "metadata": {
        "colab": {
          "base_uri": "https://localhost:8080/",
          "height": 320
        },
        "id": "jlgWlyzdaGS2",
        "outputId": "5c8f0260-f693-4bbc-81ad-6e7292aa949b"
      },
      "source": [
        "'''\n",
        "from matplotlib import pyplot\n",
        "import matplotlib.pyplot as plt\n",
        "from matplotlib.ticker import FuncFormatter\n",
        "pyplot.figure(figsize=(6, 4.5))\n",
        "plt.style.use( 'seaborn-whitegrid') \n",
        "palette = pyplot.get_cmap('Set1')\n",
        "#plt.rcParams['font.family'] = ['Times New Roman']\n",
        "plt.rcParams.update({'font.size': 12}) \n",
        " \n",
        "x = [10, 20, 50, 100]\n",
        "y_Supervised = [0.706, 0.779, 0.842, 0.885]\n",
        "y_Self = [0.768, 0.846, 0.884, 0.9]\n",
        "y_Semi = [0.762, 0.848, 0.875, 0.903]\n",
        "y_ours = [0.791, 0.869, 0.895, 0.913]\n",
        "\n",
        "plt.xlim(10, 100) \n",
        "plt.ylim(0.7, 0.92)  \n",
        " \n",
        " \n",
        "#plt.plot(x, y_Supervised, marker='o', mec='r',label='Supervised')\n",
        "plt.plot(x, y_Supervised, color=palette(3), marker='*', label='Supervised')\n",
        "plt.plot(x, y_Self, color=palette(1), marker='^', label='Self-supervised')\n",
        "plt.plot(x, y_Semi, color=palette(2), marker='s', label='Semi-supervised')\n",
        "plt.plot(x, y_ours, color=palette(0), marker='o', label='Ours')\n",
        "\n",
        "plt.legend()  # 让图例生效\n",
        "#plt.xticks(x, names, rotation=1)\n",
        " \n",
        "plt.margins(0)\n",
        "plt.subplots_adjust(bottom=0.10)\n",
        "plt.xlabel('Labeled Data Percentage') #X轴标签\n",
        "plt.ylabel(\"AUC\") #Y轴标签\n",
        "pyplot.yticks([0.70, 0.75,0.80,0.85,0.90,0.92])\n",
        "pyplot.xticks([10, 20, 50, 100])\n",
        "#plt.title(\"A simple plot\") #标题\n",
        "plt.savefig('Fig.png',dpi = 300)"
      ],
      "execution_count": null,
      "outputs": [
        {
          "data": {
            "image/png": "[encoded data removed]",
            "text/plain": [
              "<Figure size 432x324 with 1 Axes>"
            ]
          },
          "metadata": {},
          "output_type": "display_data"
        }
      ]
    },
    {
      "cell_type": "code",
      "metadata": {
        "id": "iAH_Z6c0aG-m"
      },
      "source": [
        ""
      ],
      "execution_count": null,
      "outputs": []
    }
  ]
}
