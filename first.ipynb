{
  "nbformat": 4,
  "nbformat_minor": 0,
  "metadata": {
    "colab": {
      "name": "first.ipynb",
      "provenance": [],
      "collapsed_sections": [],
      "authorship_tag": "ABX9TyOXhM0EdhNxVFkT1FJv0Avn",
      "include_colab_link": true
    },
    "kernelspec": {
      "display_name": "Python 3",
      "name": "python3"
    },
    "language_info": {
      "name": "python"
    }
  },
  "cells": [
    {
      "cell_type": "markdown",
      "metadata": {
        "id": "view-in-github",
        "colab_type": "text"
      },
      "source": [
        "<a href=\"https://colab.research.google.com/github/mosihan/UOB--Three-models-of-handwritten-digit-recognition/blob/main/first.ipynb\" target=\"_parent\"><img src=\"https://colab.research.google.com/assets/colab-badge.svg\" alt=\"Open In Colab\"/></a>"
      ]
    },
    {
      "cell_type": "markdown",
      "metadata": {
        "id": "_g2koSQmYbQh"
      },
      "source": [
        "# LR-first"
      ]
    },
    {
      "cell_type": "code",
      "metadata": {
        "id": "K25gZXOhW09s",
        "colab": {
          "base_uri": "https://localhost:8080/"
        },
        "outputId": "4f00c28f-3107-4d5e-ddae-a3e67b53f4ae"
      },
      "source": [
        "%reset\n",
        "%who"
      ],
      "execution_count": null,
      "outputs": [
        {
          "output_type": "stream",
          "name": "stdout",
          "text": [
            "Once deleted, variables cannot be recovered. Proceed (y/[n])? y\n",
            "Interactive namespace is empty.\n"
          ]
        }
      ]
    },
    {
      "cell_type": "code",
      "metadata": {
        "id": "H9Y8_tP_W3jQ",
        "colab": {
          "base_uri": "https://localhost:8080/"
        },
        "outputId": "445064f4-df60-4782-e541-a0706730bec8"
      },
      "source": [
        "import numpy as np\n",
        "import pandas as pd\n",
        "\n",
        "# Loading MINIST dataset\n",
        "import tensorflow\n",
        "from keras.datasets import mnist\n",
        "(train_images, train_labels), (test_images, test_labels) = mnist.load_data()"
      ],
      "execution_count": null,
      "outputs": [
        {
          "output_type": "stream",
          "name": "stdout",
          "text": [
            "Downloading data from https://storage.googleapis.com/tensorflow/tf-keras-datasets/mnist.npz\n",
            "11493376/11490434 [==============================] - 0s 0us/step\n",
            "11501568/11490434 [==============================] - 0s 0us/step\n"
          ]
        }
      ]
    },
    {
      "cell_type": "code",
      "metadata": {
        "id": "JMzx4fT_W5VK"
      },
      "source": [
        "# Vectoring: reshape 3d to 2d matrixes \n",
        "X_train=train_images.reshape(60000,-1)\n",
        "X_test=test_images.reshape(10000,-1)\n",
        "y_train=train_labels\n",
        "y_test=test_labels"
      ],
      "execution_count": null,
      "outputs": []
    },
    {
      "cell_type": "code",
      "metadata": {
        "colab": {
          "base_uri": "https://localhost:8080/"
        },
        "id": "McqRSm-KW8wp",
        "outputId": "b52477cc-993a-4ddd-bb69-b1777ede78e6"
      },
      "source": [
        "import datetime\n",
        "start = datetime.datetime.now()\n",
        "\n",
        "from sklearn.linear_model import LogisticRegression\n",
        "\n",
        "LR1 = LogisticRegression()\n",
        "LR1.fit(X_train, y_train)\n",
        "\n",
        "end = datetime.datetime.now()\n",
        "print (end-start)"
      ],
      "execution_count": null,
      "outputs": [
        {
          "output_type": "stream",
          "name": "stdout",
          "text": [
            "0:00:41.074707\n"
          ]
        },
        {
          "output_type": "stream",
          "name": "stderr",
          "text": [
            "/usr/local/lib/python3.7/dist-packages/sklearn/linear_model/_logistic.py:940: ConvergenceWarning: lbfgs failed to converge (status=1):\n",
            "STOP: TOTAL NO. of ITERATIONS REACHED LIMIT.\n",
            "\n",
            "Increase the number of iterations (max_iter) or scale the data as shown in:\n",
            "    https://scikit-learn.org/stable/modules/preprocessing.html\n",
            "Please also refer to the documentation for alternative solver options:\n",
            "    https://scikit-learn.org/stable/modules/linear_model.html#logistic-regression\n",
            "  extra_warning_msg=_LOGISTIC_SOLVER_CONVERGENCE_MSG)\n"
          ]
        }
      ]
    },
    {
      "cell_type": "code",
      "metadata": {
        "colab": {
          "base_uri": "https://localhost:8080/"
        },
        "id": "n3PfA8tcXjM3",
        "outputId": "4dacede7-d382-439b-adc0-c186dcf1ce37"
      },
      "source": [
        "from sklearn import metrics\n",
        "y_test_pred1=LR1.predict(X_test)\n",
        "print(metrics.classification_report(y_test, y_test_pred1,digits=4))"
      ],
      "execution_count": null,
      "outputs": [
        {
          "output_type": "stream",
          "name": "stdout",
          "text": [
            "              precision    recall  f1-score   support\n",
            "\n",
            "           0     0.9544    0.9827    0.9683       980\n",
            "           1     0.9678    0.9797    0.9737      1135\n",
            "           2     0.9297    0.8973    0.9132      1032\n",
            "           3     0.9034    0.9069    0.9051      1010\n",
            "           4     0.9343    0.9267    0.9305       982\n",
            "           5     0.9034    0.8700    0.8864       892\n",
            "           6     0.9430    0.9499    0.9464       958\n",
            "           7     0.9314    0.9251    0.9283      1028\n",
            "           8     0.8673    0.8922    0.8796       974\n",
            "           9     0.9120    0.9138    0.9129      1009\n",
            "\n",
            "    accuracy                         0.9255     10000\n",
            "   macro avg     0.9247    0.9244    0.9244     10000\n",
            "weighted avg     0.9255    0.9255    0.9254     10000\n",
            "\n"
          ]
        }
      ]
    },
    {
      "cell_type": "code",
      "metadata": {
        "colab": {
          "base_uri": "https://localhost:8080/"
        },
        "id": "61DZqyBY0eZY",
        "outputId": "4f13c210-7d8b-4c35-cb85-7af06bdf3085"
      },
      "source": [
        "print('Training accuracy = {0}%'.format(np.round(LR1.score(X_train, y_train) * 100, 2)))\n",
        "print('Test accuracy = {0}%'.format(np.round(LR1.score(X_test, y_test) * 100, 2)))"
      ],
      "execution_count": null,
      "outputs": [
        {
          "output_type": "stream",
          "name": "stdout",
          "text": [
            "Training accuracy = 93.39%\n",
            "Test accuracy = 92.55%\n"
          ]
        }
      ]
    },
    {
      "cell_type": "code",
      "metadata": {
        "colab": {
          "base_uri": "https://localhost:8080/",
          "height": 489
        },
        "id": "6pRd_IEOC6vD",
        "outputId": "c87e85bb-265a-4de0-9e66-2af25c01832e"
      },
      "source": [
        "%matplotlib inline\n",
        "import matplotlib.pyplot as plt\n",
        "plt.style.use('seaborn-whitegrid')\n",
        "disp = metrics.plot_confusion_matrix(LR1, X_test, y_test)\n",
        "disp.figure_.suptitle(\"Confusion Matrix\")\n",
        "print(f\"Confusion matrix:\\n{disp.confusion_matrix}\")\n",
        "\n",
        "from google.colab import files\n",
        "plt.savefig('LRConfusion-matrix.jpg')\n",
        "files.download('LRConfusion-matrix.jpg')\n",
        "plt.show()"
      ],
      "execution_count": null,
      "outputs": [
        {
          "output_type": "stream",
          "name": "stdout",
          "text": [
            "Confusion matrix:\n",
            "[[ 963    0    0    3    1    3    4    4    2    0]\n",
            " [   0 1112    4    2    0    1    3    2   11    0]\n",
            " [   3   10  926   15    6    4   15    8   42    3]\n",
            " [   4    1   21  916    1   26    3    9   22    7]\n",
            " [   1    1    7    3  910    0    9    7   10   34]\n",
            " [  11    2    1   33   11  776   11    6   35    6]\n",
            " [   9    3    7    3    7   16  910    2    1    0]\n",
            " [   1    6   24    5    7    1    0  951    3   30]\n",
            " [   8    7    6   23    6   26   10   10  869    9]\n",
            " [   9    7    0   11   25    6    0   22    7  922]]\n"
          ]
        },
        {
          "output_type": "display_data",
          "data": {
            "application/javascript": [
              "\n",
              "    async function download(id, filename, size) {\n",
              "      if (!google.colab.kernel.accessAllowed) {\n",
              "        return;\n",
              "      }\n",
              "      const div = document.createElement('div');\n",
              "      const label = document.createElement('label');\n",
              "      label.textContent = `Downloading \"${filename}\": `;\n",
              "      div.appendChild(label);\n",
              "      const progress = document.createElement('progress');\n",
              "      progress.max = size;\n",
              "      div.appendChild(progress);\n",
              "      document.body.appendChild(div);\n",
              "\n",
              "      const buffers = [];\n",
              "      let downloaded = 0;\n",
              "\n",
              "      const channel = await google.colab.kernel.comms.open(id);\n",
              "      // Send a message to notify the kernel that we're ready.\n",
              "      channel.send({})\n",
              "\n",
              "      for await (const message of channel.messages) {\n",
              "        // Send a message to notify the kernel that we're ready.\n",
              "        channel.send({})\n",
              "        if (message.buffers) {\n",
              "          for (const buffer of message.buffers) {\n",
              "            buffers.push(buffer);\n",
              "            downloaded += buffer.byteLength;\n",
              "            progress.value = downloaded;\n",
              "          }\n",
              "        }\n",
              "      }\n",
              "      const blob = new Blob(buffers, {type: 'application/binary'});\n",
              "      const a = document.createElement('a');\n",
              "      a.href = window.URL.createObjectURL(blob);\n",
              "      a.download = filename;\n",
              "      div.appendChild(a);\n",
              "      a.click();\n",
              "      div.remove();\n",
              "    }\n",
              "  "
            ],
            "text/plain": [
              "<IPython.core.display.Javascript object>"
            ]
          },
          "metadata": {}
        },
        {
          "output_type": "display_data",
          "data": {
            "application/javascript": [
              "download(\"download_58b208d4-0c1e-4ce7-b0df-fe6e0a1264fc\", \"LRConfusion-matrix.jpg\", 44422)"
            ],
            "text/plain": [
              "<IPython.core.display.Javascript object>"
            ]
          },
          "metadata": {}
        },
        {
          "output_type": "display_data",
          "data": {
            "image/png": "[encoded data removed]",
            "text/plain": [
              "<Figure size 432x288 with 2 Axes>"
            ]
          },
          "metadata": {}
        }
      ]
    },
    {
      "cell_type": "markdown",
      "metadata": {
        "id": "kQ-2YmJfm4-d"
      },
      "source": [
        "#SVM-first"
      ]
    },
    {
      "cell_type": "code",
      "metadata": {
        "colab": {
          "base_uri": "https://localhost:8080/"
        },
        "id": "DtyotERpm4-e",
        "outputId": "47cf350a-f6e6-4a01-e620-dea228db7fab"
      },
      "source": [
        "%reset\n",
        "%who"
      ],
      "execution_count": null,
      "outputs": [
        {
          "output_type": "stream",
          "name": "stdout",
          "text": [
            "Once deleted, variables cannot be recovered. Proceed (y/[n])? y\n",
            "Interactive namespace is empty.\n"
          ]
        }
      ]
    },
    {
      "cell_type": "code",
      "metadata": {
        "colab": {
          "base_uri": "https://localhost:8080/"
        },
        "id": "JENgD1eNm4-e",
        "outputId": "754adad5-839e-4bd4-a44a-84944668cb8c"
      },
      "source": [
        "import numpy as np\n",
        "import pandas as pd\n",
        "\n",
        "# Loading MINIST dataset\n",
        "import tensorflow\n",
        "from keras.datasets import mnist\n",
        "(train_images, train_labels), (test_images, test_labels) = mnist.load_data()"
      ],
      "execution_count": null,
      "outputs": [
        {
          "output_type": "stream",
          "name": "stdout",
          "text": [
            "Downloading data from https://storage.googleapis.com/tensorflow/tf-keras-datasets/mnist.npz\n",
            "11493376/11490434 [==============================] - 0s 0us/step\n",
            "11501568/11490434 [==============================] - 0s 0us/step\n"
          ]
        }
      ]
    },
    {
      "cell_type": "code",
      "metadata": {
        "id": "5YmeQF8Vm4-e"
      },
      "source": [
        "# Vectoring: reshape 3d to 2d matrixes \n",
        "X_train=train_images.reshape(60000,-1)\n",
        "X_test=test_images.reshape(10000,-1)\n",
        "y_train=train_labels\n",
        "y_test=test_labels"
      ],
      "execution_count": null,
      "outputs": []
    },
    {
      "cell_type": "code",
      "metadata": {
        "id": "0gwCth_hm4-e",
        "colab": {
          "base_uri": "https://localhost:8080/"
        },
        "outputId": "66119c8e-e2dc-4877-d5a5-7b3418c5683f"
      },
      "source": [
        "import datetime\n",
        "start = datetime.datetime.now()\n",
        "\n",
        "from sklearn import svm\n",
        "svm1 = svm.SVC()\n",
        "svm1.fit(X_train, y_train)\n",
        "\n",
        "end = datetime.datetime.now()\n",
        "print (end-start)"
      ],
      "execution_count": null,
      "outputs": [
        {
          "output_type": "stream",
          "name": "stdout",
          "text": [
            "0:09:18.090091\n"
          ]
        }
      ]
    },
    {
      "cell_type": "code",
      "metadata": {
        "colab": {
          "base_uri": "https://localhost:8080/"
        },
        "id": "yirukoLSm4-f",
        "outputId": "4af7913d-82ec-45a3-8ff9-4ea895475491"
      },
      "source": [
        "from sklearn import metrics\n",
        "y_test_pred1 = svm1.predict(X_test)\n",
        "print(metrics.classification_report(y_test, y_test_pred1,digits=4))"
      ],
      "execution_count": null,
      "outputs": [
        {
          "output_type": "stream",
          "name": "stdout",
          "text": [
            "              precision    recall  f1-score   support\n",
            "\n",
            "           0     0.9799    0.9929    0.9863       980\n",
            "           1     0.9886    0.9921    0.9903      1135\n",
            "           2     0.9758    0.9748    0.9753      1032\n",
            "           3     0.9745    0.9851    0.9798      1010\n",
            "           4     0.9826    0.9786    0.9806       982\n",
            "           5     0.9864    0.9765    0.9814       892\n",
            "           6     0.9854    0.9854    0.9854       958\n",
            "           7     0.9755    0.9689    0.9722      1028\n",
            "           8     0.9714    0.9754    0.9734       974\n",
            "           9     0.9719    0.9613    0.9666      1009\n",
            "\n",
            "    accuracy                         0.9792     10000\n",
            "   macro avg     0.9792    0.9791    0.9791     10000\n",
            "weighted avg     0.9792    0.9792    0.9792     10000\n",
            "\n"
          ]
        }
      ]
    },
    {
      "cell_type": "code",
      "metadata": {
        "colab": {
          "base_uri": "https://localhost:8080/",
          "height": 489
        },
        "id": "UMBiv3PnDwI2",
        "outputId": "08cbd235-5f47-4c57-a62f-f62188d07064"
      },
      "source": [
        "%matplotlib inline\n",
        "import matplotlib.pyplot as plt\n",
        "plt.style.use('seaborn-whitegrid')\n",
        "disp = metrics.plot_confusion_matrix(svm1, X_test, y_test)\n",
        "disp.figure_.suptitle(\"Confusion Matrix\")\n",
        "print(f\"Confusion matrix:\\n{disp.confusion_matrix}\")\n",
        "\n",
        "plt.show()"
      ],
      "execution_count": null,
      "outputs": [
        {
          "output_type": "stream",
          "name": "stdout",
          "text": [
            "Confusion matrix:\n",
            "[[ 973    0    1    0    0    2    1    1    2    0]\n",
            " [   0 1126    3    1    0    1    1    1    2    0]\n",
            " [   6    1 1006    2    1    0    2    7    6    1]\n",
            " [   0    0    2  995    0    2    0    5    5    1]\n",
            " [   0    0    5    0  961    0    3    0    2   11]\n",
            " [   2    0    0    9    0  871    4    1    4    1]\n",
            " [   6    2    0    0    2    3  944    0    1    0]\n",
            " [   0    6   11    1    1    0    0  996    2   11]\n",
            " [   3    0    2    6    3    2    2    3  950    3]\n",
            " [   3    4    1    7   10    2    1    7    4  970]]\n"
          ]
        },
        {
          "output_type": "display_data",
          "data": {
            "image/png": "[encoded data removed]",
            "text/plain": [
              "<Figure size 432x288 with 2 Axes>"
            ]
          },
          "metadata": {}
        }
      ]
    },
    {
      "cell_type": "markdown",
      "metadata": {
        "id": "9wUuba7cZI6C"
      },
      "source": [
        "#BPNN-first"
      ]
    },
    {
      "cell_type": "code",
      "metadata": {
        "colab": {
          "base_uri": "https://localhost:8080/"
        },
        "id": "y7Mkxl5lZLqm",
        "outputId": "cd078ff8-06f3-42e2-c4af-c768915d80fc"
      },
      "source": [
        "%reset\n",
        "%who"
      ],
      "execution_count": null,
      "outputs": [
        {
          "output_type": "stream",
          "name": "stdout",
          "text": [
            "Once deleted, variables cannot be recovered. Proceed (y/[n])? y\n",
            "Interactive namespace is empty.\n"
          ]
        }
      ]
    },
    {
      "cell_type": "code",
      "metadata": {
        "id": "qd8oLxdbZPi2"
      },
      "source": [
        "import numpy as np\n",
        "import pandas as pd\n",
        "\n",
        "# Loading MINIST dataset\n",
        "import tensorflow\n",
        "from keras.datasets import mnist\n",
        "(train_images, train_labels), (test_images, test_labels) = mnist.load_data()"
      ],
      "execution_count": null,
      "outputs": []
    },
    {
      "cell_type": "code",
      "metadata": {
        "id": "qdeJM5_8ZTip"
      },
      "source": [
        "# Vectoring: reshape 3d to 2d matrixes \n",
        "X_train=train_images.reshape(60000,-1)\n",
        "X_test=test_images.reshape(10000,-1)\n",
        "y_train=train_labels\n",
        "y_test=test_labels"
      ],
      "execution_count": null,
      "outputs": []
    },
    {
      "cell_type": "code",
      "metadata": {
        "colab": {
          "base_uri": "https://localhost:8080/"
        },
        "id": "xAQb0BHuZVm2",
        "outputId": "faaaf764-99f3-4799-b2c8-a0a5046bee47"
      },
      "source": [
        "import datetime\n",
        "start = datetime.datetime.now()\n",
        "\n",
        "from sklearn.neural_network import MLPClassifier\n",
        "bpnn1 = MLPClassifier()\n",
        "bpnn1.fit(X_train, y_train)\n",
        "\n",
        "end = datetime.datetime.now()\n",
        "print (end-start)"
      ],
      "execution_count": null,
      "outputs": [
        {
          "output_type": "stream",
          "name": "stdout",
          "text": [
            "0:03:29.453655\n"
          ]
        }
      ]
    },
    {
      "cell_type": "code",
      "metadata": {
        "colab": {
          "base_uri": "https://localhost:8080/"
        },
        "id": "DQfL2RvYZm60",
        "outputId": "72837826-2c60-4df6-c9ec-ae0fcac226ab"
      },
      "source": [
        "from sklearn import metrics\n",
        "y_test_pred1 = bpnn1.predict(X_test)\n",
        "print(metrics.classification_report(y_test, y_test_pred1,digits=4))"
      ],
      "execution_count": null,
      "outputs": [
        {
          "output_type": "stream",
          "name": "stdout",
          "text": [
            "              precision    recall  f1-score   support\n",
            "\n",
            "           0     0.9719    0.9878    0.9798       980\n",
            "           1     0.9877    0.9877    0.9877      1135\n",
            "           2     0.9579    0.9700    0.9639      1032\n",
            "           3     0.9438    0.9644    0.9540      1010\n",
            "           4     0.9615    0.9664    0.9639       982\n",
            "           5     0.9633    0.9428    0.9530       892\n",
            "           6     0.9718    0.9729    0.9724       958\n",
            "           7     0.9707    0.9660    0.9683      1028\n",
            "           8     0.9682    0.9363    0.9520       974\n",
            "           9     0.9554    0.9544    0.9549      1009\n",
            "\n",
            "    accuracy                         0.9654     10000\n",
            "   macro avg     0.9652    0.9649    0.9650     10000\n",
            "weighted avg     0.9655    0.9654    0.9654     10000\n",
            "\n"
          ]
        }
      ]
    }
  ]
}